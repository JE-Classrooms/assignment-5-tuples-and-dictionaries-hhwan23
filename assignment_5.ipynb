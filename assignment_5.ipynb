{
 "cells": [
  {
   "cell_type": "markdown",
   "metadata": {},
   "source": [
    "# Assignment 5"
   ]
  },
  {
   "cell_type": "markdown",
   "metadata": {},
   "source": [
    "**Exercise 1:** write a Python program to create a new dictionary by extracting the mentioned keys from the below dictionary\n",
    "\n",
    "```python\n",
    "sample_dict = {\n",
    "    \"name\": \"Kelly\",\n",
    "    \"age\": 25,\n",
    "    \"salary\": 8000,\n",
    "    \"city\": \"New york\"}\n",
    "\n",
    "# Keys to extract\n",
    "keys = [\"name\", \"salary\"]\n",
    "```\n",
    "\n",
    "**Expected output:** ```{'name': 'Kelly', 'salary': 8000}```"
   ]
  },
  {
   "cell_type": "code",
   "execution_count": 34,
   "metadata": {},
   "outputs": [
    {
     "name": "stdout",
     "output_type": "stream",
     "text": [
      "name : Kelly\n",
      "salary : 8000\n"
     ]
    }
   ],
   "source": [
    "sample_dict = {\n",
    "    \"name\": \"Kelly\",\n",
    "    \"age\": 25,\n",
    "    \"salary\": 8000,\n",
    "    \"city\": \"New york\"}\n",
    "\n",
    "# Keys to extract\n",
    "keys = [\"name\", \"salary\"]\n",
    "\n",
    "for key in sample_dict:\n",
    "    if key == keys[0] or key == keys[1]:\n",
    "        print(key,':',sample_dict[key])\n"
   ]
  },
  {
   "cell_type": "markdown",
   "metadata": {},
   "source": [
    "**Exercise 2:** consider the following dictionary:\n",
    "\n",
    "```d = {'1':1, '2':2, '3':3, 4:4, 5:5, 6:6, 'next key':7}```\n",
    "\n",
    "(a) using a loop change the type of the values associated with string keys to strings.\n",
    "\n",
    "**Expected output:** ```{'1': '1', '2': '2', '3': '3', 4: 4, 5: 5, 6: 6, 'next key': '7'}```\n",
    "\n",
    "(b) using a loop, change all the keys to match their respective values. \n",
    "\n",
    "**Expected output:** ```{1: 1, 2: 2, 3: 3, 4: 4, 5: 5, 6: 6, 7: 7}```"
   ]
  },
  {
   "cell_type": "code",
   "execution_count": 33,
   "metadata": {},
   "outputs": [
    {
     "name": "stdout",
     "output_type": "stream",
     "text": [
      "{'1': '1', '2': '2', '3': '3', 4: 4, 5: 5, 6: 6, 'next key': '7'}\n"
     ]
    }
   ],
   "source": [
    "# part a\n",
    "d = {'1':1, '2':2, '3':3, 4:4, 5:5, 6:6, 'next key':7}\n",
    "\n",
    "for key in d:\n",
    "    if type(key) == str:\n",
    "        d[key] = str(d[key])\n",
    "    \n",
    "print(d)"
   ]
  },
  {
   "cell_type": "code",
   "execution_count": 32,
   "metadata": {},
   "outputs": [
    {
     "name": "stdout",
     "output_type": "stream",
     "text": [
      "{1: 1, 2: 2, 3: 3, 4: 4, 5: 5, 6: 6, 7: 7}\n"
     ]
    }
   ],
   "source": [
    "# part b\n",
    "d = {'1':1, '2':2, '3':3, 4:4, 5:5, 6:6, 'next key':7}\n",
    "\n",
    "vals = d.values()\n",
    "d1 = {}\n",
    "\n",
    "for key in vals:\n",
    "    d1[key] = key\n",
    "\n",
    "print(d1)"
   ]
  },
  {
   "cell_type": "markdown",
   "metadata": {},
   "source": [
    "**Exercise 3:** write a Python program that *uses a loop* to map the following two lists into a dictionary.\n",
    "\n",
    "keys = ['red', 'green', 'blue']\n",
    "values = ['#FF0000','#008000', '#0000FF']\n",
    "\n",
    "**Expected output:** {'red': '#FF0000', 'green': '#008000', 'blue': '#0000FF'}\n",
    "\n",
    "*Hint:* look at the dictionary method [update](https://www.w3schools.com/python/ref_dictionary_update.asp)."
   ]
  },
  {
   "cell_type": "code",
   "execution_count": 31,
   "metadata": {},
   "outputs": [
    {
     "name": "stdout",
     "output_type": "stream",
     "text": [
      "{'red': '#FF0000', 'green': '#008000', 'blue': '#0000FF'}\n"
     ]
    }
   ],
   "source": [
    "keys = ['red', 'green', 'blue'] \n",
    "values = ['#FF0000','#008000', '#0000FF']\n",
    "colors = {}\n",
    "\n",
    "for i in range(0,len(keys)):\n",
    "    colors.update({keys[i] : values[i]})\n",
    "    \n",
    "print(colors)\n",
    "    "
   ]
  }
 ],
 "metadata": {
  "kernelspec": {
   "display_name": "conda_amazonei_mxnet_p36",
   "language": "python",
   "name": "conda_amazonei_mxnet_p36"
  },
  "language_info": {
   "codemirror_mode": {
    "name": "ipython",
    "version": 3
   },
   "file_extension": ".py",
   "mimetype": "text/x-python",
   "name": "python",
   "nbconvert_exporter": "python",
   "pygments_lexer": "ipython3",
   "version": "3.6.13"
  },
  "vscode": {
   "interpreter": {
    "hash": "9fbb33e86ca55080a202fed700efde3fb4ffe3f46131e5b52201b9ba06ce5f72"
   }
  }
 },
 "nbformat": 4,
 "nbformat_minor": 4
}
